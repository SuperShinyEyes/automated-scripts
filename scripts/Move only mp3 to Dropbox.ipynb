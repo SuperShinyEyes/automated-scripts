{
 "cells": [
  {
   "cell_type": "code",
   "execution_count": null,
   "metadata": {},
   "outputs": [],
   "source": [
    "import os\n",
    "\n",
    "os.getcwd()"
   ]
  },
  {
   "cell_type": "code",
   "execution_count": null,
   "metadata": {},
   "outputs": [],
   "source": [
    "base = os.path.dirname(os.path.dirname(os.path.dirname(os.getcwd())))\n",
    "dest = os.path.join(base, 'Dropbox/Music');dest\n",
    "src = os.path.join(base, 'Music/iTunes/iTunes Media/Music');src"
   ]
  },
  {
   "cell_type": "code",
   "execution_count": null,
   "metadata": {},
   "outputs": [],
   "source": [
    "def list_music(path, format='mp3'):\n",
    "    for e in os.listdir(path):\n",
    "        e = os.path.join(path, e)\n",
    "        if os.path.isdir(e): \n",
    "            yield from list_music(e)\n",
    "        elif e.endswith(format): \n",
    "            yield e\n",
    "            \n",
    "ls = list_music(src)\n",
    "\n",
    "for song in ls:\n",
    "    album_dir = '/'.join(song[len(src)+1:].split('/')[:-1])\n",
    "    album_dest = os.path.join(dest, album_dir)\n",
    "    if not os.path.exists(album_dest):\n",
    "        os.makedirs(album_dest)\n",
    "    song_dest = os.path.join(dest, song[len(src)+1:])\n",
    "    os.rename(song, song_dest)"
   ]
  }
 ],
 "metadata": {
  "kernelspec": {
   "display_name": "Python 3",
   "language": "python",
   "name": "python3"
  },
  "language_info": {
   "codemirror_mode": {
    "name": "ipython",
    "version": 3
   },
   "file_extension": ".py",
   "mimetype": "text/x-python",
   "name": "python",
   "nbconvert_exporter": "python",
   "pygments_lexer": "ipython3",
   "version": "3.6.4"
  }
 },
 "nbformat": 4,
 "nbformat_minor": 2
}
