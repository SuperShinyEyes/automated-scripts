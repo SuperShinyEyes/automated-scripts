{
 "cells": [
  {
   "cell_type": "code",
   "execution_count": 2,
   "metadata": {},
   "outputs": [],
   "source": [
    "#/usr/bin/python3\n",
    "\n",
    "from concurrent.futures import ThreadPoolExecutor\n",
    "import subprocess\n",
    "\n",
    "paniikki = [\n",
    "    \"befunge\",\"bit\",\"bogo\",\"brainfuck\",\"deadfish\",\"emo\",\"entropy\",\"false\",\"fractran\",\"fugue\",\"glass\",\"haifu\",\"headache\",\"intercal\",\"malbolge\",\"numberwang\",\"ook\",\"piet\",\"regexpl\",\"remorse\",\"rename\",\"shakespeare\",\"smith\",\"smurf\",\"spaghetti\",\"thue\",\"unlambda\",\"wake\",\"whenever\",\"whitespace\",\"zombie\"\n",
    "]\n",
    "def get_luokka(nimi):\n",
    "    try:\n",
    "        return nimi, subprocess.check_output([\"ssh\", nimi, \"uptime\"], timeout=1, stderr=subprocess.STDOUT).decode(\"utf-8\").rstrip(\"\\n\")\n",
    "        #return nimi, subprocess.check_output([\"ssh\", nimi, \"perf\", \"--version\"], timeout=2, stderr=subprocess.STDOUT).decode(\"utf-8\").rstrip(\"\\n\")\n",
    "    except subprocess.TimeoutExpired:\n",
    "        return nimi, \"computer doesn't answer\"\n",
    "    except subprocess.CalledProcessError as e:\n",
    "        return nimi, \"error: %s\" % e.output.decode(\"utf-8\").rstrip(\"\\n\")\n",
    "\n",
    "executor = ThreadPoolExecutor(max_workers=8)\n",
    "\n"
   ]
  },
  {
   "cell_type": "code",
   "execution_count": null,
   "metadata": {
    "collapsed": true
   },
   "outputs": [],
   "source": [
    "for nimi, tulos in executor.map(get_luokka, paniikki):\n",
    "    print(\"%s: %s\" % (nimi, tulos))"
   ]
  },
  {
   "cell_type": "code",
   "execution_count": 17,
   "metadata": {},
   "outputs": [
    {
     "name": "stdout",
     "output_type": "stream",
     "text": [
      "returncode: 0\n"
     ]
    }
   ],
   "source": [
    "# subprocess_os_system.py\n",
    "import subprocess\n",
    "\n",
    "completed = subprocess.run(['ls', '-1'])\n",
    "print('returncode:', completed.returncode)"
   ]
  },
  {
   "cell_type": "code",
   "execution_count": 16,
   "metadata": {},
   "outputs": [],
   "source": [
    "completed.stdout"
   ]
  },
  {
   "cell_type": "code",
   "execution_count": 9,
   "metadata": {},
   "outputs": [
    {
     "name": "stdout",
     "output_type": "stream",
     "text": [
      "returncode: 0\n"
     ]
    }
   ],
   "source": [
    "completed = subprocess.run('echo $HOME', shell=True)\n",
    "print('returncode:', completed.returncode)"
   ]
  },
  {
   "cell_type": "code",
   "execution_count": 18,
   "metadata": {},
   "outputs": [
    {
     "name": "stdout",
     "output_type": "stream",
     "text": [
      "returncode: 0\n",
      "Have 99 bytes in stdout:\n",
      "Untitled.ipynb\n",
      "Untitled1.ipynb\n",
      "check_maari_uptime.py\n",
      "check_paniikki_uptime.py\n",
      "model_name\n",
      "run_ML.py\n",
      "\n"
     ]
    }
   ],
   "source": [
    "completed = subprocess.run(\n",
    "    ['ls', '-1'],\n",
    "    stdout=subprocess.PIPE,\n",
    ")\n",
    "print('returncode:', completed.returncode)\n",
    "print('Have {} bytes in stdout:\\n{}'.format(\n",
    "    len(completed.stdout),\n",
    "    completed.stdout.decode('utf-8'))\n",
    ")"
   ]
  },
  {
   "cell_type": "code",
   "execution_count": 19,
   "metadata": {},
   "outputs": [
    {
     "name": "stdout",
     "output_type": "stream",
     "text": [
      "read:\n",
      "stdout: '\"to stdout\"\\n'\n"
     ]
    }
   ],
   "source": [
    "print('read:')\n",
    "proc = subprocess.Popen(\n",
    "    ['echo', '\"to stdout\"'],\n",
    "    stdout=subprocess.PIPE,\n",
    ")\n",
    "stdout_value = proc.communicate()[0].decode('utf-8')\n",
    "print('stdout:', repr(stdout_value))"
   ]
  },
  {
   "cell_type": "code",
   "execution_count": 20,
   "metadata": {},
   "outputs": [
    {
     "name": "stdout",
     "output_type": "stream",
     "text": [
      "write:\n"
     ]
    },
    {
     "data": {
      "text/plain": [
       "(None, None)"
      ]
     },
     "execution_count": 20,
     "metadata": {},
     "output_type": "execute_result"
    }
   ],
   "source": [
    "print('write:')\n",
    "proc = subprocess.Popen(\n",
    "    ['cat', '-'],\n",
    "    stdin=subprocess.PIPE,\n",
    ")\n",
    "proc.communicate('stdin: to stdin\\n'.encode('utf-8'))"
   ]
  },
  {
   "cell_type": "code",
   "execution_count": null,
   "metadata": {
    "collapsed": true
   },
   "outputs": [],
   "source": []
  }
 ],
 "metadata": {
  "kernelspec": {
   "display_name": "Python 3",
   "language": "python",
   "name": "python3"
  },
  "language_info": {
   "codemirror_mode": {
    "name": "ipython",
    "version": 3
   },
   "file_extension": ".py",
   "mimetype": "text/x-python",
   "name": "python",
   "nbconvert_exporter": "python",
   "pygments_lexer": "ipython3",
   "version": "3.6.1"
  }
 },
 "nbformat": 4,
 "nbformat_minor": 2
}
