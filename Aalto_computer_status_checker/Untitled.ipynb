{
 "cells": [
  {
   "cell_type": "code",
   "execution_count": null,
   "metadata": {
    "collapsed": true
   },
   "outputs": [],
   "source": [
    "def t(a):\n",
    "    print(a)\n",
    "    \n",
    "def host(t):\n",
    "    return "
   ]
  },
  {
   "cell_type": "code",
   "execution_count": 17,
   "metadata": {
    "collapsed": true
   },
   "outputs": [],
   "source": [
    "import socket\n",
    "import subprocess, os, sys\n",
    "\n",
    "\n",
    "def check(p):\n",
    "    rv = p.poll()\n",
    "#     if rv:\n",
    "#         raise Fatal('%r returned %d' % (self.argv, rv))\n",
    "\n",
    "argvbase = ([sys.executable, sys.argv[0]] +\n",
    "                    ['-v'] +\n",
    "                    ['--method'] +\n",
    "                    ['--firewall'])\n",
    "\n",
    "argv_tries = [\n",
    "            ['sudo', '-p', '[local sudo] Password: '\n",
    "        ] + argvbase\n",
    "]\n",
    "\n",
    "(s1, s2) = socket.socketpair()\n",
    "\n",
    "def setup():\n",
    "    # run in the child process\n",
    "    s2.close()\n",
    "e = None\n",
    "if os.getuid() == 0:\n",
    "    argv_tries = argv_tries[-1:]  # last entry only\n",
    "for argv in argv_tries:\n",
    "    try:\n",
    "        if argv[0] == 'su':\n",
    "            sys.stderr.write('[local su] ')\n",
    "        p = subprocess.Popen(argv, stdout=s1, preexec_fn=setup)\n",
    "        e = None\n",
    "        break\n",
    "    except OSError as e:\n",
    "        pass\n",
    "\n",
    "s1.close()\n",
    "if sys.version_info < (3, 0):\n",
    "    # python 2.7\n",
    "    pfile = s2.makefile('wb+')\n",
    "else:\n",
    "    # python 3.5\n",
    "    pfile = s2.makefile('rwb')\n",
    "ine = pfile.readline()\n",
    "check(p)\n",
    "# if line[0:5] != b'READY':\n",
    "#     raise Fatal('%r expected READY, got %r' % (argv, line))\n",
    "# method_name = line[6:-1]\n",
    "# method = get_method(method_name.decode(ASCII))\n",
    "\n",
    "# method.set_firewall()\n"
   ]
  },
  {
   "cell_type": "code",
   "execution_count": 19,
   "metadata": {},
   "outputs": [
    {
     "data": {
      "text/plain": [
       "'/Users/seyoung/anaconda/bin/python'"
      ]
     },
     "execution_count": 19,
     "metadata": {},
     "output_type": "execute_result"
    }
   ],
   "source": [
    "sys.executable"
   ]
  },
  {
   "cell_type": "code",
   "execution_count": 18,
   "metadata": {
    "collapsed": true
   },
   "outputs": [],
   "source": [
    "??socket.socketpair"
   ]
  },
  {
   "cell_type": "code",
   "execution_count": null,
   "metadata": {
    "collapsed": true
   },
   "outputs": [],
   "source": []
  }
 ],
 "metadata": {
  "kernelspec": {
   "display_name": "Python 3",
   "language": "python",
   "name": "python3"
  },
  "language_info": {
   "codemirror_mode": {
    "name": "ipython",
    "version": 3
   },
   "file_extension": ".py",
   "mimetype": "text/x-python",
   "name": "python",
   "nbconvert_exporter": "python",
   "pygments_lexer": "ipython3",
   "version": "3.6.1"
  }
 },
 "nbformat": 4,
 "nbformat_minor": 2
}
