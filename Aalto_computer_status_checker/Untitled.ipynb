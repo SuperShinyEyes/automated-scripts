{
 "cells": [
  {
   "cell_type": "code",
   "execution_count": null,
   "metadata": {
    "collapsed": true
   },
   "outputs": [],
   "source": [
    "def t(a):\n",
    "    print(a)\n",
    "    \n",
    "def host(t):\n",
    "    return "
   ]
  },
  {
   "cell_type": "code",
   "execution_count": 17,
   "metadata": {
    "collapsed": true
   },
   "outputs": [],
   "source": [
    "import socket\n",
    "import subprocess, os, sys\n",
    "\n",
    "\n",
    "def check(p):\n",
    "    rv = p.poll()\n",
    "#     if rv:\n",
    "#         raise Fatal('%r returned %d' % (self.argv, rv))\n",
    "\n",
    "argvbase = ([sys.executable, sys.argv[0]] +\n",
    "                    ['-v'] +\n",
    "                    ['--method'] +\n",
    "                    ['--firewall'])\n",
    "\n",
    "argv_tries = [\n",
    "            ['sudo', '-p', '[local sudo] Password: '\n",
    "        ] + argvbase\n",
    "]\n",
    "\n",
    "(s1, s2) = socket.socketpair()\n",
    "\n",
    "def setup():\n",
    "    # run in the child process\n",
    "    s2.close()\n",
    "e = None\n",
    "if os.getuid() == 0:\n",
    "    argv_tries = argv_tries[-1:]  # last entry only\n",
    "for argv in argv_tries:\n",
    "    try:\n",
    "        if argv[0] == 'su':\n",
    "            sys.stderr.write('[local su] ')\n",
    "        p = subprocess.Popen(argv, stdout=s1, preexec_fn=setup)\n",
    "        e = None\n",
    "        break\n",
    "    except OSError as e:\n",
    "        pass\n",
    "\n",
    "s1.close()\n",
    "if sys.version_info < (3, 0):\n",
    "    # python 2.7\n",
    "    pfile = s2.makefile('wb+')\n",
    "else:\n",
    "    # python 3.5\n",
    "    pfile = s2.makefile('rwb')\n",
    "ine = pfile.readline()\n",
    "check(p)\n",
    "# if line[0:5] != b'READY':\n",
    "#     raise Fatal('%r expected READY, got %r' % (argv, line))\n",
    "# method_name = line[6:-1]\n",
    "# method = get_method(method_name.decode(ASCII))\n",
    "\n",
    "# method.set_firewall()\n"
   ]
  },
  {
   "cell_type": "code",
   "execution_count": 19,
   "metadata": {},
   "outputs": [
    {
     "data": {
      "text/plain": [
       "'/Users/seyoung/anaconda/bin/python'"
      ]
     },
     "execution_count": 19,
     "metadata": {},
     "output_type": "execute_result"
    }
   ],
   "source": [
    "sys.executable"
   ]
  },
  {
   "cell_type": "code",
   "execution_count": 18,
   "metadata": {
    "collapsed": true
   },
   "outputs": [],
   "source": [
    "??socket.socketpair"
   ]
  },
  {
   "cell_type": "code",
   "execution_count": 3,
   "metadata": {
    "collapsed": true
   },
   "outputs": [],
   "source": [
    "CODE_PANIIKKI_UPTIME=b'''\n",
    "from concurrent.futures import ThreadPoolExecutor\n",
    "import subprocess\n",
    "\n",
    "\n",
    "paniikki = [\n",
    "    \"befunge\",\"bit\",\"bogo\",\"brainfuck\",\"deadfish\",\"emo\",\"entropy\",\"false\",\"fractran\",\"fugue\",\"glass\",\"haifu\",\"headache\",\"intercal\",\"malbolge\",\"numberwang\",\"ook\",\"piet\",\"regexpl\",\"remorse\",\"rename\",\"shakespeare\",\"smith\",\"smurf\",\"spaghetti\",\"thue\",\"unlambda\",\"wake\",\"whenever\",\"whitespace\",\"zombie\"\n",
    "]\n",
    "def get_luokka(nimi):\n",
    "    try:\n",
    "        return nimi, subprocess.check_output([\"ssh\", nimi, \"uptime\"], timeout=1, stderr=subprocess.STDOUT).decode(\"utf-8\").rstrip(\"\\\\n\")\n",
    "    except subprocess.TimeoutExpired:\n",
    "        return nimi, \"computer doesn't answer\"\n",
    "    except subprocess.CalledProcessError as e:\n",
    "        return nimi, \"error: %s\" % e.output.decode(\"utf-8\").rstrip(\"\\\\n\")\n",
    "\n",
    "executor = ThreadPoolExecutor(max_workers=8)\n",
    "\n",
    "for nimi, tulos in executor.map(get_luokka, paniikki):\n",
    "    print(\"%s: %s\" % (nimi, tulos))\n",
    "'''\n"
   ]
  },
  {
   "cell_type": "code",
   "execution_count": 6,
   "metadata": {},
   "outputs": [
    {
     "data": {
      "text/plain": [
       "'befunge:  14:46:42 up  4:33,  0 users,  load average: 0.09, 0.02, 0.01\\nbit:  14:46:42 up  5:07,  0 users,  load average: 0.00, 0.00, 0.00\\nbogo:  14:46:42 up  1:36,  1 user,  load average: 0.28, 0.41, 0.48\\nbrainfuck:  14:46:42 up 13 days, 17 min,  4 users,  load average: 0.32, 0.40, 0.52\\ndeadfish:  14:46:42 up  4:43,  0 users,  load average: 0.00, 0.00, 0.00\\nemo:  14:46:42 up  5:00,  0 users,  load average: 0.00, 0.00, 0.00\\nentropy:  14:46:42 up  5:01,  0 users,  load average: 0.06, 0.03, 0.01\\nfalse:  14:46:42 up  2:06,  1 user,  load average: 0.00, 0.01, 0.00\\nfractran:  14:46:43 up 3 days, 23:14,  0 users,  load average: 0.00, 0.00, 0.00\\nfugue:  14:46:43 up 23 days, 23:28,  1 user,  load average: 0.00, 0.00, 0.00\\nglass:  14:46:43 up  5:06,  0 users,  load average: 0.00, 0.02, 0.00\\nhaifu:  14:46:43 up 4 days,  1:05,  0 users,  load average: 0.00, 0.01, 0.00\\nheadache:  14:46:43 up  4:58,  1 user,  load average: 0.05, 0.06, 0.11\\nintercal:  14:46:43 up  4:49,  0 users,  load average: 0.08, 0.07, 0.01\\nmalbolge:  14:46:43 up 15 days, 9 min,  0 users,  load average: 0.00, 0.00, 0.00\\nnumberwang:  14:46:43 up  5:04,  0 users,  load average: 0.00, 0.01, 0.00\\nook:  14:46:44 up 3 days,  1:27,  0 users,  load average: 0.00, 0.00, 0.00\\npiet:  14:46:43 up 12 days, 23:22,  1 user,  load average: 0.08, 0.02, 0.01\\nregexpl:  14:46:44 up  4:44,  0 users,  load average: 0.00, 0.00, 0.00\\nremorse:  14:46:44 up  4:54,  0 users,  load average: 0.00, 0.00, 0.00\\nrename:  14:46:44 up 17 days, 23:06,  1 user,  load average: 0.26, 0.19, 0.13\\nshakespeare:  14:46:44 up  4:37,  0 users,  load average: 0.08, 0.02, 0.01\\nsmith:  14:46:44 up  4:57,  0 users,  load average: 0.03, 0.01, 0.00\\nsmurf:  14:46:44 up  3:21,  0 users,  load average: 0.00, 0.00, 0.00\\nspaghetti:  14:46:44 up 24 days, 10 min,  2 users,  load average: 1.16, 1.03, 1.01\\nthue:  14:46:44 up 11 days, 21:08,  1 user,  load average: 0.00, 0.00, 0.00\\nunlambda:  14:46:44 up  4:47,  0 users,  load average: 0.00, 0.00, 0.00\\nwake:  14:46:44 up  4:40,  0 users,  load average: 0.00, 0.00, 0.00\\nwhenever:  14:46:44 up 3 days,  2:19,  0 users,  load average: 0.00, 0.00, 0.00\\nwhitespace:  14:46:44 up  5:03,  1 user,  load average: 0.84, 0.81, 0.68\\nzombie:  14:46:44 up 12 days,  4:35,  3 users,  load average: 0.00, 0.00, 0.00\\n'"
      ]
     },
     "execution_count": 6,
     "metadata": {},
     "output_type": "execute_result"
    }
   ],
   "source": [
    "p = Popen(['ssh', 'kosh', 'python3'], stdout=PIPE, stdin=PIPE, stderr=STDOUT)\n",
    "grep_stdout = p.communicate(input=CODE_PANIIKKI_UPTIME)[0]\n",
    "grep_stdout.decode()"
   ]
  },
  {
   "cell_type": "code",
   "execution_count": 2,
   "metadata": {},
   "outputs": [
    {
     "name": "stdout",
     "output_type": "stream",
     "text": [
      "I am some python code\n",
      "('Linux', 'kosh', '4.4.0-109-generic', '#132-Ubuntu SMP Tue Jan 9 19:52:39 UTC 2018', 'x86_64')\n",
      "\n"
     ]
    }
   ],
   "source": [
    "from subprocess import Popen, PIPE, STDOUT\n",
    "\n",
    "p = Popen(['ssh', 'kosh', 'python'], stdout=PIPE, stdin=PIPE, stderr=STDOUT)    \n",
    "CODE = b\"\"\"\n",
    "import os\n",
    "print(\"I am some python code\")\n",
    "print(os.uname())\n",
    "\"\"\"\n",
    "grep_stdout = p.communicate(input=CODE)[0]\n",
    "print(grep_stdout.decode())"
   ]
  },
  {
   "cell_type": "code",
   "execution_count": null,
   "metadata": {
    "collapsed": true
   },
   "outputs": [],
   "source": []
  }
 ],
 "metadata": {
  "kernelspec": {
   "display_name": "Python 3",
   "language": "python",
   "name": "python3"
  },
  "language_info": {
   "codemirror_mode": {
    "name": "ipython",
    "version": 3
   },
   "file_extension": ".py",
   "mimetype": "text/x-python",
   "name": "python",
   "nbconvert_exporter": "python",
   "pygments_lexer": "ipython3",
   "version": "3.6.1"
  }
 },
 "nbformat": 4,
 "nbformat_minor": 2
}
