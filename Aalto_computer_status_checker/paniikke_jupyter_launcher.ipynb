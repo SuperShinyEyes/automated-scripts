{
 "cells": [
  {
   "cell_type": "code",
   "execution_count": 1,
   "metadata": {
    "collapsed": true
   },
   "outputs": [],
   "source": [
    "import subprocess"
   ]
  },
  {
   "cell_type": "code",
   "execution_count": 2,
   "metadata": {
    "collapsed": true
   },
   "outputs": [],
   "source": [
    "CODE_PANIIKKI_UPTIME='''\n",
    "from concurrent.futures import ThreadPoolExecutor\n",
    "import subprocess\n",
    "\n",
    "paniikki = [\n",
    "    \"befunge\",\"bit\",\"bogo\",\"brainfuck\",\"deadfish\",\"emo\",\"entropy\",\"false\",\"fractran\",\"fugue\",\"glass\",\"haifu\",\"headache\",\"intercal\",\"malbolge\",\"numberwang\",\"ook\",\"piet\",\"regexpl\",\"remorse\",\"rename\",\"shakespeare\",\"smith\",\"smurf\",\"spaghetti\",\"thue\",\"unlambda\",\"wake\",\"whenever\",\"whitespace\",\"zombie\"\n",
    "]\n",
    "def get_luokka(nimi):\n",
    "    try:\n",
    "        return nimi, subprocess.check_output([\"ssh\", nimi, \"uptime\"], timeout=1, stderr=subprocess.STDOUT).decode(\"utf-8\").rstrip(\"\\\\n\")\n",
    "    except subprocess.TimeoutExpired:\n",
    "        return nimi, \"computer doesn't answer\"\n",
    "    except subprocess.CalledProcessError as e:\n",
    "        return nimi, \"error: %s\" % e.output.decode(\"utf-8\").rstrip(\"\\\\n\")\n",
    "\n",
    "executor = ThreadPoolExecutor(max_workers=8)\n",
    "\n",
    "for nimi, tulos in executor.map(get_luokka, paniikki):\n",
    "    print(\"%s: %s\" % (nimi, tulos))\n",
    "'''"
   ]
  },
  {
   "cell_type": "code",
   "execution_count": null,
   "metadata": {
    "collapsed": true
   },
   "outputs": [],
   "source": [
    "subprocess.check_output([\"cat check_paniikki_uptime.py\"], timeout=1, \n",
    "                        stderr=subprocess.STDOUT).decode(\"utf-8\").rstrip(\"\\n\")"
   ]
  },
  {
   "cell_type": "code",
   "execution_count": 11,
   "metadata": {},
   "outputs": [
    {
     "data": {
      "text/plain": [
       "\"befunge:  14:22:24 up 9 days, 12:30,  1 user,  load average: 0.00, 0.00, 0.00\\nbit:  14:22:24 up 55 min,  1 user,  load average: 0.00, 0.00, 0.06\\nbogo:  14:22:24 up 9 days, 12:30,  3 users,  load average: 0.03, 0.02, 0.00\\nbrainfuck:  14:22:25 up 3 days,  3:06,  1 user,  load average: 0.00, 0.02, 0.00\\ndeadfish:  14:22:25 up 9 days, 12:30,  0 users,  load average: 0.04, 0.01, 0.00\\nemo:  14:22:25 up 4 days, 18:53,  0 users,  load average: 0.04, 0.03, 0.00\\nentropy:  14:22:25 up 4 days,  4:22,  1 user,  load average: 1.07, 1.78, 1.60\\nfalse:  14:22:25 up 52 min,  1 user,  load average: 0.53, 0.30, 0.25\\nfractran: computer doesn't answer\\nfugue:  14:22:25 up 2 days, 23:03,  0 users,  load average: 0.01, 0.05, 0.01\\nglass:  14:22:25 up 55 min,  1 user,  load average: 0.35, 0.66, 0.69\\nhaifu: computer doesn't answer\\nheadache:  14:22:26 up  1:25,  0 users,  load average: 0.00, 0.00, 0.00\\nintercal:  14:22:26 up 9 days, 12:30,  0 users,  load average: 0.08, 0.02, 0.01\\nmalbolge:  14:22:26 up 55 min,  1 user,  load average: 0.12, 0.20, 0.15\\nnumberwang:  14:22:26 up 9 days, 12:30,  0 users,  load average: 0.08, 0.02, 0.01\\nook:  14:22:26 up 3 days,  3:10,  0 users,  load average: 0.08, 0.02, 0.04\\npiet:  14:22:26 up 4 days,  3:26,  0 users,  load average: 0.00, 0.00, 0.00\\nregexpl:  14:22:26 up 11 min,  1 user,  load average: 0.45, 0.38, 0.22\\nremorse:  14:22:26 up 4 days,  4:00,  0 users,  load average: 0.24, 0.06, 0.02\\nrename:  14:22:26 up 2 days, 23:42,  1 user,  load average: 12.33, 12.06, 12.02\\nshakespeare:  14:22:26 up 5 days, 4 min,  1 user,  load average: 0.23, 0.21, 0.16\\nsmith:  14:22:26 up 3 days, 18:33,  1 user,  load average: 0.00, 0.00, 0.00\\nsmurf:  14:22:27 up 9 days, 12:30,  1 user,  load average: 0.10, 0.20, 0.17\\nspaghetti:  14:22:27 up 2 days, 23:46,  1 user,  load average: 0.81, 0.92, 0.88\\nthue:  14:22:27 up 3 days,  3:03,  1 user,  load average: 0.23, 0.17, 0.07\\nunlambda:  14:22:27 up 9 days, 12:30,  0 users,  load average: 0.64, 0.66, 0.63\\nwake:  14:22:27 up  5:32,  0 users,  load average: 0.00, 0.00, 0.00\\nwhenever:  14:22:27 up 9 days, 12:30,  1 user,  load average: 0.08, 0.02, 0.01\\nwhitespace:  14:22:27 up 9 days, 12:30,  2 users,  load average: 5.74, 5.40, 5.48\\nzombie:  14:22:27 up 9 days, 12:30,  2 users,  load average: 0.03, 0.07, 0.02\""
      ]
     },
     "execution_count": 11,
     "metadata": {},
     "output_type": "execute_result"
    }
   ],
   "source": [
    "with open('temp.py', 'w') as f:\n",
    "    f.write(CODE_PANIIKKI_UPTIME)\n",
    "    \n",
    "uptimes = subprocess.check_output([\"ssh kosh python3 < ./temp.py\"], timeout=10, shell=True, stderr=subprocess.STDOUT).decode(\"utf-8\").rstrip(\"\\n\")\n",
    "uptimes\n"
   ]
  },
  {
   "cell_type": "code",
   "execution_count": 21,
   "metadata": {},
   "outputs": [
    {
     "name": "stdout",
     "output_type": "stream",
     "text": [
      "'befunge      => up 9 days  8:44   with 0 users.  LOAD: 0.02, 0.01, 0.00'\n"
     ]
    }
   ],
   "source": [
    "class Node:\n",
    "    '''\n",
    "    'befunge:  10:35:49 up 9 days,  8:44,  0 users,  load average: 0.02, 0.01, 0.00'\n",
    "    '''\n",
    "    def __init__(self, uptime_output):\n",
    "        self.init_properties(uptime_output)\n",
    "#         self.hostname = hostname\n",
    "#         self.uptime = uptime\n",
    "#         self.num_users = num_users\n",
    "        \n",
    "    def init_properties(self, output):\n",
    "        self.hostname = output.split(':')[0]\n",
    "        self.uptime = ' '.join(output.split(' up ')[1].split(\" user\")[0].split(', ')[:-1])\n",
    "        self.num_users = int(output.split(' user')[0].split()[-1])\n",
    "        self.loads = output.split('average:')[-1]\n",
    "\n",
    "    def __repr__(self):\n",
    "        return repr(\"{:<13}=> up {:<14} with{:>2} users.  LOAD:{:>15}\".format(self.hostname, self.uptime, self.num_users, self.loads))\n",
    "    \n",
    "n = Node('befunge:  10:35:49 up 9 days,  8:44,  0 users,  load average: 0.02, 0.01, 0.00')\n",
    "print(n.__repr__())"
   ]
  },
  {
   "cell_type": "code",
   "execution_count": 19,
   "metadata": {
    "collapsed": true
   },
   "outputs": [],
   "source": [
    "class ComputerLab:\n",
    "    \n",
    "    def __init__(self, uptime_outputs):\n",
    "        self.nodes = [Node(u) for u in uptime_outputs]\n",
    "        self.sort()\n",
    "        \n",
    "    def sort(self):\n",
    "        # Sort by number of users\n",
    "        self.nodes.sort(key=lambda n: n.num_users)\n",
    "        # Now sort by loads\n",
    "        nodes_by_num_user_dict = {}\n",
    "        for n in self.nodes:\n",
    "            nodes_by_num_user_dict.setdefault(n.num_users, [])\n",
    "            nodes_by_num_user_dict[n.num_users].append(n)\n",
    "        for k, v in nodes_by_num_user_dict.items():\n",
    "            v.sort(\n",
    "                key=lambda node: \n",
    "                float(\n",
    "                    node.loads.split(',')[0]\n",
    "                )\n",
    "            )\n",
    "        # Flatten\n",
    "        # https://stackoverflow.com/a/952952/3067013        \n",
    "        self.nodes = [\n",
    "            n for nodes in nodes_by_num_user_dict.values() \n",
    "            for n in nodes\n",
    "        ]\n",
    "        \n",
    "            \n",
    "    def __print__(self):\n",
    "        title=\"Paniikki Nodes Status\"\n",
    "        print(\"=\"*len(title))\n",
    "        print(title)\n",
    "        print(\"=\"*len(title))\n",
    "        for n in self.nodes:\n",
    "            print(n)\n",
    "    \n",
    "\n",
    "#     def __repr__(self):\n",
    "#         r = '\\n'.join([n.__repr__() for n in nodes])\n",
    "#         return repr(r)\n",
    "    \n",
    "# paniikki = ComputerLab(uptimes)\n",
    "# paniikki.__print__()"
   ]
  },
  {
   "cell_type": "code",
   "execution_count": 28,
   "metadata": {
    "scrolled": false
   },
   "outputs": [
    {
     "name": "stdout",
     "output_type": "stream",
     "text": [
      "=====================\n",
      "Paniikki Nodes Status\n",
      "=====================\n",
      "'ook          => up 3 days  3:21   with 0 users.  LOAD: 0.00, 0.00, 0.00'\n",
      "'numberwang   => up 9 days 12:41   with 0 users.  LOAD: 0.01, 0.02, 0.00'\n",
      "'emo          => up 4 days 19:04   with 0 users.  LOAD: 0.02, 0.04, 0.00'\n",
      "'intercal     => up 9 days 12:41   with 0 users.  LOAD: 0.02, 0.01, 0.00'\n",
      "'wake         => up  5:43          with 0 users.  LOAD: 0.03, 0.02, 0.00'\n",
      "'remorse      => up 4 days  4:11   with 0 users.  LOAD: 0.05, 0.05, 0.01'\n",
      "'headache     => up  1:36          with 0 users.  LOAD: 0.07, 0.06, 0.02'\n",
      "'fugue        => up 2 days 23:15   with 0 users.  LOAD: 0.09, 0.04, 0.01'\n",
      "'unlambda     => up 9 days 12:41   with 0 users.  LOAD: 0.35, 0.47, 0.57'\n",
      "'befunge      => up 9 days 12:42   with 1 users.  LOAD: 0.00, 0.00, 0.00'\n",
      "'bit          => up  1:06          with 1 users.  LOAD: 0.00, 0.01, 0.02'\n",
      "'smith        => up 3 days 18:45   with 1 users.  LOAD: 0.00, 0.00, 0.00'\n",
      "'whenever     => up 9 days 12:41   with 1 users.  LOAD: 0.00, 0.00, 0.00'\n",
      "'thue         => up 3 days  3:14   with 1 users.  LOAD: 0.02, 0.05, 0.05'\n",
      "'false        => up  1:04          with 1 users.  LOAD: 0.14, 0.16, 0.17'\n",
      "'regexpl      => up 23 min         with 1 users.  LOAD: 0.15, 0.28, 0.26'\n",
      "'malbolge     => up  1:06          with 1 users.  LOAD: 0.24, 0.11, 0.10'\n",
      "'glass        => up  1:06          with 1 users.  LOAD: 0.31, 0.52, 0.60'\n",
      "'shakespeare  => up 5 days 15 min  with 1 users.  LOAD: 0.34, 0.30, 0.23'\n",
      "'smurf        => up 9 days 12:41   with 1 users.  LOAD: 0.37, 0.23, 0.19'\n",
      "'spaghetti    => up 2 days 23:57   with 1 users.  LOAD: 0.44, 0.56, 0.71'\n",
      "'deadfish     => up 9 days 12:42   with 1 users.  LOAD: 0.50, 0.25, 0.09'\n",
      "'piet         => up 4 days  3:37   with 1 users.  LOAD: 0.62, 0.33, 0.13'\n",
      "'entropy      => up 4 days  4:33   with 1 users.  LOAD: 3.50, 2.52, 1.92'\n",
      "'rename       => up 2 days 23:54   with 1 users.  LOAD: 11.78, 11.87, 11.93'\n",
      "'brainfuck    => up 3 days  3:18   with 2 users.  LOAD: 0.08, 0.04, 0.00'\n",
      "'zombie       => up 9 days 12:41   with 2 users.  LOAD: 0.08, 0.08, 0.05'\n",
      "'whitespace   => up 9 days 12:41   with 2 users.  LOAD: 4.60, 5.09, 5.31'\n",
      "'bogo         => up 9 days 12:42   with 3 users.  LOAD: 0.00, 0.00, 0.00'\n",
      "Get port!!!\n",
      "Got port @ 12520\n",
      "\n",
      "\n",
      "Copy/paste this line into your shell in order to start a Jupyter Notebook:\n",
      ">>>\n",
      "\n",
      "ssh parks1@ook -t -L 12520:localhost:12520 -o ProxyCommand='ssh parks1@kosh -W %h:%p'  \"bash -l -c 'module load courses/CS-E4820 ; jupyter notebook --port=12520 --no-browser'\"\n",
      "\n",
      "\n"
     ]
    }
   ],
   "source": [
    "class ComputerLabRemoteController:\n",
    "    def __init__(self,username):\n",
    "        self.username = username\n",
    "        self.uptimes = None\n",
    "        self.node = None\n",
    "        self.port = None\n",
    "        \n",
    "    def check_lab_uptimes(self):\n",
    "        with open('temp.py', 'w') as f:\n",
    "            f.write(CODE_PANIIKKI_UPTIME)\n",
    "    \n",
    "        self.uptimes = subprocess.check_output(\n",
    "            [\"ssh kosh python3 < ./temp.py\"], \n",
    "            timeout=10, \n",
    "            shell=True, # FIXME: Remove this for security\n",
    "            stderr=subprocess.STDOUT\n",
    "        ).decode(\"utf-8\").rstrip(\"\\n\").split('\\n')\n",
    "        \n",
    "        self.uptimes = [u for u in self.uptimes if \"computer doesn't answer\" not in u]\n",
    "        \n",
    "        subprocess.check_output(\n",
    "            [\"rm temp.py\"],\n",
    "            timeout=10,\n",
    "            shell=True,\n",
    "            stderr=subprocess.STDOUT\n",
    "        ).decode(\"utf-8\").rstrip(\"\\n\")\n",
    "        \n",
    "        self.lab = ComputerLab(self.uptimes)\n",
    "        self.lab.__print__()\n",
    "       \n",
    "\n",
    "\n",
    "    def print_command(self):\n",
    "        command ='''ssh {user}@{node} -t -L {port}:localhost:{port} -o ProxyCommand='ssh {user}@kosh -W %h:%p'  \"bash -l -c \\'module load courses/CS-E4820 ; jupyter notebook --port={port} --no-browser\\'\"'''.format(user=self.username,node=self.node.hostname,port         =self.port)\n",
    "        print(\"\\n\")\n",
    "        print(\"Copy/paste this line into your shell in order to start a Jupyter Notebook:\\n>>>\\n\")\n",
    "        print(command)\n",
    "        print(\"\\n\")\n",
    "\n",
    "        \n",
    "    def get_port(self):\n",
    "        node = self.lab.nodes[0]\n",
    "        with open('temp.py', 'w') as f:\n",
    "            f.write(CODE_GET_PORT.format(user=self.username,node='bit'))\n",
    "\n",
    "        self.port = subprocess.check_output(\n",
    "            [\"ssh kosh python3 < ./temp.py\"], \n",
    "            timeout=10, \n",
    "            shell=True, \n",
    "            stderr=subprocess.STDOUT\n",
    "        ).decode(\"utf-8\").rstrip(\"\\n\")\n",
    "        \n",
    "        subprocess.check_output(\n",
    "            [\"rm temp.py\"],\n",
    "            timeout=10,\n",
    "            shell=True,\n",
    "            stderr=subprocess.STDOUT\n",
    "        ).decode(\"utf-8\").rstrip(\"\\n\")\n",
    "        \n",
    "        # This is called from this function because of synchronousity\n",
    "        self.print_command()\n",
    "        \n",
    "    def run(self):\n",
    "        self.uptimes = self.check_lab_uptimes()\n",
    "        self.node = self.lab.nodes[0]\n",
    "        self.port = self.get_port()\n",
    "        \n",
    "        \n",
    "c = ComputerLabRemoteController(\"parks1\")\n",
    "c.run()"
   ]
  },
  {
   "cell_type": "code",
   "execution_count": 56,
   "metadata": {},
   "outputs": [
    {
     "name": "stdout",
     "output_type": "stream",
     "text": [
      "   _         _ _            ___  __        _____  _____ \n",
      "  /_\\   __ _| | |_ ___     / __\\/ _\\       \\_   \\/__    //_\\ / _` | | __/ _ \\   / /   \\ \\ _____   / /\\/  / /\\/\n",
      "/  _  \\ (_| | | || (_) | / /___ _\\ \\_____/\\/ /_   / /   \n",
      "\\_/ \\_/\\__,_|_|\\__\\___/  \\____/ \\__/     \\____/   \\/    \n",
      "                                                        \n",
      "Hi! Welcome to Aalto CS-IT's Paniikki computer lab Jupyter Notebook controller. Do you want to launch one? Type in your Aalto username :D\n",
      "    e.g. tillip1\n",
      ">>> parks1\n",
      "Thanks! Hold on a sec. This will take a few secs.\n"
     ]
    },
    {
     "ename": "IndexError",
     "evalue": "list index out of range",
     "traceback": [
      "\u001b[0;31m---------------------------------------------------------------------------\u001b[0m",
      "\u001b[0;31mIndexError\u001b[0m                                Traceback (most recent call last)",
      "\u001b[0;32m<ipython-input-56-5f60cb028163>\u001b[0m in \u001b[0;36m<module>\u001b[0;34m()\u001b[0m\n\u001b[1;32m     16\u001b[0m \u001b[0;34m\u001b[0m\u001b[0m\n\u001b[1;32m     17\u001b[0m \u001b[0;32mif\u001b[0m \u001b[0m__name__\u001b[0m \u001b[0;34m==\u001b[0m \u001b[0;34m\"__main__\"\u001b[0m\u001b[0;34m:\u001b[0m\u001b[0;34m\u001b[0m\u001b[0m\n\u001b[0;32m---> 18\u001b[0;31m     \u001b[0mmain\u001b[0m\u001b[0;34m(\u001b[0m\u001b[0;34m)\u001b[0m\u001b[0;34m\u001b[0m\u001b[0m\n\u001b[0m",
      "\u001b[0;32m<ipython-input-56-5f60cb028163>\u001b[0m in \u001b[0;36mmain\u001b[0;34m()\u001b[0m\n\u001b[1;32m     12\u001b[0m     \u001b[0mprint\u001b[0m\u001b[0;34m(\u001b[0m\u001b[0;34m\"Thanks! Hold on a sec. This will take a few secs.\"\u001b[0m\u001b[0;34m)\u001b[0m\u001b[0;34m\u001b[0m\u001b[0m\n\u001b[1;32m     13\u001b[0m     \u001b[0mc\u001b[0m \u001b[0;34m=\u001b[0m \u001b[0mComputerLabRemoteController\u001b[0m\u001b[0;34m(\u001b[0m\u001b[0musername\u001b[0m\u001b[0;34m)\u001b[0m\u001b[0;34m\u001b[0m\u001b[0m\n\u001b[0;32m---> 14\u001b[0;31m     \u001b[0mc\u001b[0m\u001b[0;34m.\u001b[0m\u001b[0mrun\u001b[0m\u001b[0;34m(\u001b[0m\u001b[0;34m)\u001b[0m\u001b[0;34m\u001b[0m\u001b[0m\n\u001b[0m\u001b[1;32m     15\u001b[0m \u001b[0;34m\u001b[0m\u001b[0m\n\u001b[1;32m     16\u001b[0m \u001b[0;34m\u001b[0m\u001b[0m\n",
      "\u001b[0;32m<ipython-input-28-5559b54e5db5>\u001b[0m in \u001b[0;36mrun\u001b[0;34m(self)\u001b[0m\n\u001b[1;32m     65\u001b[0m \u001b[0;34m\u001b[0m\u001b[0m\n\u001b[1;32m     66\u001b[0m     \u001b[0;32mdef\u001b[0m \u001b[0mrun\u001b[0m\u001b[0;34m(\u001b[0m\u001b[0mself\u001b[0m\u001b[0;34m)\u001b[0m\u001b[0;34m:\u001b[0m\u001b[0;34m\u001b[0m\u001b[0m\n\u001b[0;32m---> 67\u001b[0;31m         \u001b[0mself\u001b[0m\u001b[0;34m.\u001b[0m\u001b[0muptimes\u001b[0m \u001b[0;34m=\u001b[0m \u001b[0mself\u001b[0m\u001b[0;34m.\u001b[0m\u001b[0mcheck_lab_uptimes\u001b[0m\u001b[0;34m(\u001b[0m\u001b[0;34m)\u001b[0m\u001b[0;34m\u001b[0m\u001b[0m\n\u001b[0m\u001b[1;32m     68\u001b[0m         \u001b[0mself\u001b[0m\u001b[0;34m.\u001b[0m\u001b[0mnode\u001b[0m \u001b[0;34m=\u001b[0m \u001b[0mself\u001b[0m\u001b[0;34m.\u001b[0m\u001b[0mlab\u001b[0m\u001b[0;34m.\u001b[0m\u001b[0mnodes\u001b[0m\u001b[0;34m[\u001b[0m\u001b[0;36m0\u001b[0m\u001b[0;34m]\u001b[0m\u001b[0;34m\u001b[0m\u001b[0m\n\u001b[1;32m     69\u001b[0m         \u001b[0mself\u001b[0m\u001b[0;34m.\u001b[0m\u001b[0mport\u001b[0m \u001b[0;34m=\u001b[0m \u001b[0mself\u001b[0m\u001b[0;34m.\u001b[0m\u001b[0mget_port\u001b[0m\u001b[0;34m(\u001b[0m\u001b[0;34m)\u001b[0m\u001b[0;34m\u001b[0m\u001b[0m\n",
      "\u001b[0;32m<ipython-input-28-5559b54e5db5>\u001b[0m in \u001b[0;36mcheck_lab_uptimes\u001b[0;34m(self)\u001b[0m\n\u001b[1;32m     26\u001b[0m         ).decode(\"utf-8\").rstrip(\"\\n\")\n\u001b[1;32m     27\u001b[0m \u001b[0;34m\u001b[0m\u001b[0m\n\u001b[0;32m---> 28\u001b[0;31m         \u001b[0mself\u001b[0m\u001b[0;34m.\u001b[0m\u001b[0mlab\u001b[0m \u001b[0;34m=\u001b[0m \u001b[0mComputerLab\u001b[0m\u001b[0;34m(\u001b[0m\u001b[0mself\u001b[0m\u001b[0;34m.\u001b[0m\u001b[0muptimes\u001b[0m\u001b[0;34m)\u001b[0m\u001b[0;34m\u001b[0m\u001b[0m\n\u001b[0m\u001b[1;32m     29\u001b[0m         \u001b[0mself\u001b[0m\u001b[0;34m.\u001b[0m\u001b[0mlab\u001b[0m\u001b[0;34m.\u001b[0m\u001b[0m__print__\u001b[0m\u001b[0;34m(\u001b[0m\u001b[0;34m)\u001b[0m\u001b[0;34m\u001b[0m\u001b[0m\n\u001b[1;32m     30\u001b[0m \u001b[0;34m\u001b[0m\u001b[0m\n",
      "\u001b[0;32m<ipython-input-19-902b619366d0>\u001b[0m in \u001b[0;36m__init__\u001b[0;34m(self, uptime_outputs)\u001b[0m\n\u001b[1;32m      2\u001b[0m \u001b[0;34m\u001b[0m\u001b[0m\n\u001b[1;32m      3\u001b[0m     \u001b[0;32mdef\u001b[0m \u001b[0m__init__\u001b[0m\u001b[0;34m(\u001b[0m\u001b[0mself\u001b[0m\u001b[0;34m,\u001b[0m \u001b[0muptime_outputs\u001b[0m\u001b[0;34m)\u001b[0m\u001b[0;34m:\u001b[0m\u001b[0;34m\u001b[0m\u001b[0m\n\u001b[0;32m----> 4\u001b[0;31m         \u001b[0mself\u001b[0m\u001b[0;34m.\u001b[0m\u001b[0mnodes\u001b[0m \u001b[0;34m=\u001b[0m \u001b[0;34m[\u001b[0m\u001b[0mNode\u001b[0m\u001b[0;34m(\u001b[0m\u001b[0mu\u001b[0m\u001b[0;34m)\u001b[0m \u001b[0;32mfor\u001b[0m \u001b[0mu\u001b[0m \u001b[0;32min\u001b[0m \u001b[0muptime_outputs\u001b[0m\u001b[0;34m]\u001b[0m\u001b[0;34m\u001b[0m\u001b[0m\n\u001b[0m\u001b[1;32m      5\u001b[0m         \u001b[0mself\u001b[0m\u001b[0;34m.\u001b[0m\u001b[0msort\u001b[0m\u001b[0;34m(\u001b[0m\u001b[0;34m)\u001b[0m\u001b[0;34m\u001b[0m\u001b[0m\n\u001b[1;32m      6\u001b[0m \u001b[0;34m\u001b[0m\u001b[0m\n",
      "\u001b[0;32m<ipython-input-19-902b619366d0>\u001b[0m in \u001b[0;36m<listcomp>\u001b[0;34m(.0)\u001b[0m\n\u001b[1;32m      2\u001b[0m \u001b[0;34m\u001b[0m\u001b[0m\n\u001b[1;32m      3\u001b[0m     \u001b[0;32mdef\u001b[0m \u001b[0m__init__\u001b[0m\u001b[0;34m(\u001b[0m\u001b[0mself\u001b[0m\u001b[0;34m,\u001b[0m \u001b[0muptime_outputs\u001b[0m\u001b[0;34m)\u001b[0m\u001b[0;34m:\u001b[0m\u001b[0;34m\u001b[0m\u001b[0m\n\u001b[0;32m----> 4\u001b[0;31m         \u001b[0mself\u001b[0m\u001b[0;34m.\u001b[0m\u001b[0mnodes\u001b[0m \u001b[0;34m=\u001b[0m \u001b[0;34m[\u001b[0m\u001b[0mNode\u001b[0m\u001b[0;34m(\u001b[0m\u001b[0mu\u001b[0m\u001b[0;34m)\u001b[0m \u001b[0;32mfor\u001b[0m \u001b[0mu\u001b[0m \u001b[0;32min\u001b[0m \u001b[0muptime_outputs\u001b[0m\u001b[0;34m]\u001b[0m\u001b[0;34m\u001b[0m\u001b[0m\n\u001b[0m\u001b[1;32m      5\u001b[0m         \u001b[0mself\u001b[0m\u001b[0;34m.\u001b[0m\u001b[0msort\u001b[0m\u001b[0;34m(\u001b[0m\u001b[0;34m)\u001b[0m\u001b[0;34m\u001b[0m\u001b[0m\n\u001b[1;32m      6\u001b[0m \u001b[0;34m\u001b[0m\u001b[0m\n",
      "\u001b[0;32m<ipython-input-21-0474c47f41f1>\u001b[0m in \u001b[0;36m__init__\u001b[0;34m(self, uptime_output)\u001b[0m\n\u001b[1;32m      4\u001b[0m     '''\n\u001b[1;32m      5\u001b[0m     \u001b[0;32mdef\u001b[0m \u001b[0m__init__\u001b[0m\u001b[0;34m(\u001b[0m\u001b[0mself\u001b[0m\u001b[0;34m,\u001b[0m \u001b[0muptime_output\u001b[0m\u001b[0;34m)\u001b[0m\u001b[0;34m:\u001b[0m\u001b[0;34m\u001b[0m\u001b[0m\n\u001b[0;32m----> 6\u001b[0;31m         \u001b[0mself\u001b[0m\u001b[0;34m.\u001b[0m\u001b[0minit_properties\u001b[0m\u001b[0;34m(\u001b[0m\u001b[0muptime_output\u001b[0m\u001b[0;34m)\u001b[0m\u001b[0;34m\u001b[0m\u001b[0m\n\u001b[0m\u001b[1;32m      7\u001b[0m \u001b[0;31m#         self.hostname = hostname\u001b[0m\u001b[0;34m\u001b[0m\u001b[0;34m\u001b[0m\u001b[0m\n\u001b[1;32m      8\u001b[0m \u001b[0;31m#         self.uptime = uptime\u001b[0m\u001b[0;34m\u001b[0m\u001b[0;34m\u001b[0m\u001b[0m\n",
      "\u001b[0;32m<ipython-input-21-0474c47f41f1>\u001b[0m in \u001b[0;36minit_properties\u001b[0;34m(self, output)\u001b[0m\n\u001b[1;32m     11\u001b[0m     \u001b[0;32mdef\u001b[0m \u001b[0minit_properties\u001b[0m\u001b[0;34m(\u001b[0m\u001b[0mself\u001b[0m\u001b[0;34m,\u001b[0m \u001b[0moutput\u001b[0m\u001b[0;34m)\u001b[0m\u001b[0;34m:\u001b[0m\u001b[0;34m\u001b[0m\u001b[0m\n\u001b[1;32m     12\u001b[0m         \u001b[0mself\u001b[0m\u001b[0;34m.\u001b[0m\u001b[0mhostname\u001b[0m \u001b[0;34m=\u001b[0m \u001b[0moutput\u001b[0m\u001b[0;34m.\u001b[0m\u001b[0msplit\u001b[0m\u001b[0;34m(\u001b[0m\u001b[0;34m':'\u001b[0m\u001b[0;34m)\u001b[0m\u001b[0;34m[\u001b[0m\u001b[0;36m0\u001b[0m\u001b[0;34m]\u001b[0m\u001b[0;34m\u001b[0m\u001b[0m\n\u001b[0;32m---> 13\u001b[0;31m         \u001b[0mself\u001b[0m\u001b[0;34m.\u001b[0m\u001b[0muptime\u001b[0m \u001b[0;34m=\u001b[0m \u001b[0;34m' '\u001b[0m\u001b[0;34m.\u001b[0m\u001b[0mjoin\u001b[0m\u001b[0;34m(\u001b[0m\u001b[0moutput\u001b[0m\u001b[0;34m.\u001b[0m\u001b[0msplit\u001b[0m\u001b[0;34m(\u001b[0m\u001b[0;34m' up '\u001b[0m\u001b[0;34m)\u001b[0m\u001b[0;34m[\u001b[0m\u001b[0;36m1\u001b[0m\u001b[0;34m]\u001b[0m\u001b[0;34m.\u001b[0m\u001b[0msplit\u001b[0m\u001b[0;34m(\u001b[0m\u001b[0;34m\" user\"\u001b[0m\u001b[0;34m)\u001b[0m\u001b[0;34m[\u001b[0m\u001b[0;36m0\u001b[0m\u001b[0;34m]\u001b[0m\u001b[0;34m.\u001b[0m\u001b[0msplit\u001b[0m\u001b[0;34m(\u001b[0m\u001b[0;34m', '\u001b[0m\u001b[0;34m)\u001b[0m\u001b[0;34m[\u001b[0m\u001b[0;34m:\u001b[0m\u001b[0;34m-\u001b[0m\u001b[0;36m1\u001b[0m\u001b[0;34m]\u001b[0m\u001b[0;34m)\u001b[0m\u001b[0;34m\u001b[0m\u001b[0m\n\u001b[0m\u001b[1;32m     14\u001b[0m         \u001b[0mself\u001b[0m\u001b[0;34m.\u001b[0m\u001b[0mnum_users\u001b[0m \u001b[0;34m=\u001b[0m \u001b[0mint\u001b[0m\u001b[0;34m(\u001b[0m\u001b[0moutput\u001b[0m\u001b[0;34m.\u001b[0m\u001b[0msplit\u001b[0m\u001b[0;34m(\u001b[0m\u001b[0;34m' user'\u001b[0m\u001b[0;34m)\u001b[0m\u001b[0;34m[\u001b[0m\u001b[0;36m0\u001b[0m\u001b[0;34m]\u001b[0m\u001b[0;34m.\u001b[0m\u001b[0msplit\u001b[0m\u001b[0;34m(\u001b[0m\u001b[0;34m)\u001b[0m\u001b[0;34m[\u001b[0m\u001b[0;34m-\u001b[0m\u001b[0;36m1\u001b[0m\u001b[0;34m]\u001b[0m\u001b[0;34m)\u001b[0m\u001b[0;34m\u001b[0m\u001b[0m\n\u001b[1;32m     15\u001b[0m         \u001b[0mself\u001b[0m\u001b[0;34m.\u001b[0m\u001b[0mloads\u001b[0m \u001b[0;34m=\u001b[0m \u001b[0moutput\u001b[0m\u001b[0;34m.\u001b[0m\u001b[0msplit\u001b[0m\u001b[0;34m(\u001b[0m\u001b[0;34m'average:'\u001b[0m\u001b[0;34m)\u001b[0m\u001b[0;34m[\u001b[0m\u001b[0;34m-\u001b[0m\u001b[0;36m1\u001b[0m\u001b[0;34m]\u001b[0m\u001b[0;34m\u001b[0m\u001b[0m\n",
      "\u001b[0;31mIndexError\u001b[0m: list index out of range"
     ],
     "output_type": "error"
    }
   ],
   "source": [
    "def main():\n",
    "    logo='''   _         _ _            ___  __        _____  _____ \n",
    "  /_\\   __ _| | |_ ___     / __\\/ _\\       \\_   \\/__   \\\n",
    " //_\\\\ / _` | | __/ _ \\   / /   \\ \\ _____   / /\\/  / /\\/\n",
    "/  _  \\ (_| | | || (_) | / /___ _\\ \\_____/\\/ /_   / /   \n",
    "\\_/ \\_/\\__,_|_|\\__\\___/  \\____/ \\__/     \\____/   \\/    \n",
    "                                                        '''\n",
    "    print(logo)\n",
    "    \n",
    "    \n",
    "    username = input(\"Hi! Welcome to Aalto CS-IT's Paniikki computer lab Jupyter Notebook controller. Do you want to launch one? Type in your Aalto username :D\\n    e.g. tillip1\\n>>> \")\n",
    "    print(\"Thanks! Hold on a sec. This will take a few secs.\")\n",
    "    c = ComputerLabRemoteController(username)\n",
    "    c.run()\n",
    "    \n",
    "\n",
    "if __name__ == \"__main__\":\n",
    "    main()"
   ]
  },
  {
   "cell_type": "code",
   "execution_count": 6,
   "metadata": {
    "collapsed": true
   },
   "outputs": [],
   "source": [
    "CODE_GET_PORT='''\n",
    "#!/usr/bin/python3\n",
    "\n",
    "def is_open(ip,port):\n",
    "    import socket\n",
    "    s = socket.socket(socket.AF_INET, socket.SOCK_STREAM)\n",
    "    try:\n",
    "        s.connect((ip, int(port)))\n",
    "        s.shutdown(2)\n",
    "        return True\n",
    "    except:\n",
    "        return False\n",
    "\n",
    "def get_available_socket(ip,port=12520):\n",
    "    while is_open(ip,port):\n",
    "        port += 1\n",
    "    return port\n",
    "        \n",
    "print(get_available_socket(\"{user}@{node}.org.aalto.fi\"))\n",
    "'''"
   ]
  },
  {
   "cell_type": "code",
   "execution_count": null,
   "metadata": {
    "collapsed": true
   },
   "outputs": [],
   "source": [
    "# subprocess.check_output(\n",
    "#             ['''ssh parks1@smith -t -L 10321:localhost:10321 -o ProxyCommand='ssh parks1@kosh -W %h:%p'  \"bash -l -c 'module load courses/CS-E4820 ; jupyter notebook --port=10321 --no-browser'\"'''], \n",
    "#             timeout=10, \n",
    "#             shell=True, \n",
    "#             stderr=subprocess.STDOUT\n",
    "#         ).decode(\"utf-8\").rstrip(\"\\n\")\n",
    "# 1"
   ]
  },
  {
   "cell_type": "code",
   "execution_count": 7,
   "metadata": {},
   "outputs": [
    {
     "ename": "NameError",
     "evalue": "name '__file__' is not defined",
     "traceback": [
      "\u001b[0;31m---------------------------------------------------------------------------\u001b[0m",
      "\u001b[0;31mNameError\u001b[0m                                 Traceback (most recent call last)",
      "\u001b[0;32m<ipython-input-7-ddde40c5e76a>\u001b[0m in \u001b[0;36m<module>\u001b[0;34m()\u001b[0m\n\u001b[1;32m      1\u001b[0m \u001b[0;32mimport\u001b[0m \u001b[0mos\u001b[0m\u001b[0;34m\u001b[0m\u001b[0m\n\u001b[0;32m----> 2\u001b[0;31m \u001b[0mos\u001b[0m\u001b[0;34m.\u001b[0m\u001b[0mpath\u001b[0m\u001b[0;34m.\u001b[0m\u001b[0mrealpath\u001b[0m\u001b[0;34m(\u001b[0m\u001b[0m__file__\u001b[0m\u001b[0;34m)\u001b[0m\u001b[0;34m\u001b[0m\u001b[0m\n\u001b[0m",
      "\u001b[0;31mNameError\u001b[0m: name '__file__' is not defined"
     ],
     "output_type": "error"
    }
   ],
   "source": [
    "import os\n",
    "import subprocess\n",
    "os.path.realpath(__file__)\n",
    "\n",
    "env = {'SSH_ASKPASS':'/', 'DISPLAY':':9999'}\n",
    "p = subprocess.Popen(['ssh', '-T', '-v', 'user@myhost.com'],\n",
    "    stdin=subprocess.PIPE,\n",
    "    stdout=subprocess.PIPE,\n",
    "    stderr=subprocess.PIPE,\n",
    "    env=env,\n",
    "    preexec_fn=os.setsid\n",
    ")\n",
    "\n",
    "proc = subprocess.Popen('''ssh parks1@smith -t -L 10321:localhost:10321 -o ProxyCommand='ssh parks1@kosh -W %h:%p'  \"bash -l -c 'module load courses/CS-E4820 ; jupyter notebook --port=10321 --no-browser'\"''',\n",
    "        stdout=subprocess.PIPE,\n",
    "        stderr=subprocess.PIPE)\n",
    "(stdoutdata, stderrdata) = proc.communicate()"
   ]
  },
  {
   "cell_type": "code",
   "execution_count": null,
   "metadata": {
    "collapsed": true
   },
   "outputs": [],
   "source": [
    "with open('temp.py', 'w') as f:\n",
    "    f.write(CODE_GET_PORT.format(user='parks1',node='bit'))\n",
    "\n",
    "port = subprocess.check_output(\n",
    "    [\"ssh kosh python3 < ./temp.py\"], \n",
    "    timeout=10, \n",
    "    shell=True, \n",
    "    stderr=subprocess.STDOUT\n",
    ").decode(\"utf-8\").rstrip(\"\\n\")\n",
    "\n",
    "subprocess.check_output(\n",
    "    [\"rm temp.py\"],\n",
    "    timeout=10,\n",
    "    shell=True,\n",
    "    stderr=subprocess.STDOUT\n",
    ").decode(\"utf-8\").rstrip(\"\\n\")\n",
    "\n",
    "port"
   ]
  },
  {
   "cell_type": "code",
   "execution_count": null,
   "metadata": {
    "collapsed": true
   },
   "outputs": [],
   "source": [
    "import socket\n",
    "def is_open(ip,port):\n",
    "    s = socket.socket(socket.AF_INET, socket.SOCK_STREAM)\n",
    "    try:\n",
    "        s.connect((ip, int(port)))\n",
    "        s.shutdown(2)\n",
    "        return True\n",
    "    except:\n",
    "        return False\n",
    "    \n",
    "# is_open(\"127.0.0.1\", 8888)\n",
    "def find_available_socket(ip,port=12520):\n",
    "    while is_open(ip,port):\n",
    "        port += 1\n",
    "        \n",
    "    return port\n",
    "\n",
    "find_available_socket(\"127.0.0.1\",port=8888)"
   ]
  },
  {
   "cell_type": "code",
   "execution_count": 34,
   "metadata": {},
   "outputs": [
    {
     "name": "stderr",
     "output_type": "stream",
     "text": [
      "error"
     ]
    }
   ],
   "source": [
    "import sys\n",
    "\n",
    "sys.stderr.write(\"error\")"
   ]
  },
  {
   "cell_type": "code",
   "execution_count": 35,
   "metadata": {
    "collapsed": true
   },
   "outputs": [],
   "source": [
    "import socket\n",
    "\n",
    "(s1, s2) = socket.socketpair()\n",
    "\n",
    "\n",
    "def setup():\n",
    "    s2.close()\n",
    "\n",
    "p = subprocess.Popen([\"sudo\"], stdout=s1, preexec_fn=setup)"
   ]
  },
  {
   "cell_type": "code",
   "execution_count": 36,
   "metadata": {},
   "outputs": [
    {
     "data": {
      "text/plain": [
       "1"
      ]
     },
     "execution_count": 36,
     "metadata": {},
     "output_type": "execute_result"
    }
   ],
   "source": [
    "p.poll()"
   ]
  },
  {
   "cell_type": "code",
   "execution_count": 38,
   "metadata": {},
   "outputs": [
    {
     "ename": "TypeError",
     "evalue": "memoryview: a bytes-like object is required, not 'str'",
     "traceback": [
      "\u001b[0;31m---------------------------------------------------------------------------\u001b[0m",
      "\u001b[0;31mTypeError\u001b[0m                                 Traceback (most recent call last)",
      "\u001b[0;32m<ipython-input-38-e3415f9897eb>\u001b[0m in \u001b[0;36m<module>\u001b[0;34m()\u001b[0m\n\u001b[1;32m      1\u001b[0m \u001b[0mp\u001b[0m \u001b[0;34m=\u001b[0m \u001b[0msubprocess\u001b[0m\u001b[0;34m.\u001b[0m\u001b[0mPopen\u001b[0m\u001b[0;34m(\u001b[0m\u001b[0;34m[\u001b[0m\u001b[0;34m\"sudo\"\u001b[0m\u001b[0;34m,\u001b[0m \u001b[0;34m\"-S\"\u001b[0m\u001b[0;34m,\u001b[0m \u001b[0;34m\"whoami\"\u001b[0m\u001b[0;34m]\u001b[0m\u001b[0;34m,\u001b[0m \u001b[0mstdin\u001b[0m\u001b[0;34m=\u001b[0m\u001b[0msubprocess\u001b[0m\u001b[0;34m.\u001b[0m\u001b[0mPIPE\u001b[0m\u001b[0;34m,\u001b[0m \u001b[0mstdout\u001b[0m\u001b[0;34m=\u001b[0m\u001b[0msubprocess\u001b[0m\u001b[0;34m.\u001b[0m\u001b[0mPIPE\u001b[0m\u001b[0;34m)\u001b[0m\u001b[0;34m\u001b[0m\u001b[0m\n\u001b[0;32m----> 2\u001b[0;31m \u001b[0mprint\u001b[0m\u001b[0;34m(\u001b[0m\u001b[0mp\u001b[0m\u001b[0;34m.\u001b[0m\u001b[0mcommunicate\u001b[0m\u001b[0;34m(\u001b[0m\u001b[0;34m\"password\\n\"\u001b[0m\u001b[0;34m)\u001b[0m\u001b[0;34m)\u001b[0m\u001b[0;34m\u001b[0m\u001b[0m\n\u001b[0m",
      "\u001b[0;32m/Users/seyoung/anaconda/lib/python3.6/subprocess.py\u001b[0m in \u001b[0;36mcommunicate\u001b[0;34m(self, input, timeout)\u001b[0m\n\u001b[1;32m    834\u001b[0m \u001b[0;34m\u001b[0m\u001b[0m\n\u001b[1;32m    835\u001b[0m             \u001b[0;32mtry\u001b[0m\u001b[0;34m:\u001b[0m\u001b[0;34m\u001b[0m\u001b[0m\n\u001b[0;32m--> 836\u001b[0;31m                 \u001b[0mstdout\u001b[0m\u001b[0;34m,\u001b[0m \u001b[0mstderr\u001b[0m \u001b[0;34m=\u001b[0m \u001b[0mself\u001b[0m\u001b[0;34m.\u001b[0m\u001b[0m_communicate\u001b[0m\u001b[0;34m(\u001b[0m\u001b[0minput\u001b[0m\u001b[0;34m,\u001b[0m \u001b[0mendtime\u001b[0m\u001b[0;34m,\u001b[0m \u001b[0mtimeout\u001b[0m\u001b[0;34m)\u001b[0m\u001b[0;34m\u001b[0m\u001b[0m\n\u001b[0m\u001b[1;32m    837\u001b[0m             \u001b[0;32mfinally\u001b[0m\u001b[0;34m:\u001b[0m\u001b[0;34m\u001b[0m\u001b[0m\n\u001b[1;32m    838\u001b[0m                 \u001b[0mself\u001b[0m\u001b[0;34m.\u001b[0m\u001b[0m_communication_started\u001b[0m \u001b[0;34m=\u001b[0m \u001b[0;32mTrue\u001b[0m\u001b[0;34m\u001b[0m\u001b[0m\n",
      "\u001b[0;32m/Users/seyoung/anaconda/lib/python3.6/subprocess.py\u001b[0m in \u001b[0;36m_communicate\u001b[0;34m(self, input, endtime, orig_timeout)\u001b[0m\n\u001b[1;32m   1479\u001b[0m \u001b[0;34m\u001b[0m\u001b[0m\n\u001b[1;32m   1480\u001b[0m             \u001b[0;32mif\u001b[0m \u001b[0mself\u001b[0m\u001b[0;34m.\u001b[0m\u001b[0m_input\u001b[0m\u001b[0;34m:\u001b[0m\u001b[0;34m\u001b[0m\u001b[0m\n\u001b[0;32m-> 1481\u001b[0;31m                 \u001b[0minput_view\u001b[0m \u001b[0;34m=\u001b[0m \u001b[0mmemoryview\u001b[0m\u001b[0;34m(\u001b[0m\u001b[0mself\u001b[0m\u001b[0;34m.\u001b[0m\u001b[0m_input\u001b[0m\u001b[0;34m)\u001b[0m\u001b[0;34m\u001b[0m\u001b[0m\n\u001b[0m\u001b[1;32m   1482\u001b[0m \u001b[0;34m\u001b[0m\u001b[0m\n\u001b[1;32m   1483\u001b[0m             \u001b[0;32mwith\u001b[0m \u001b[0m_PopenSelector\u001b[0m\u001b[0;34m(\u001b[0m\u001b[0;34m)\u001b[0m \u001b[0;32mas\u001b[0m \u001b[0mselector\u001b[0m\u001b[0;34m:\u001b[0m\u001b[0;34m\u001b[0m\u001b[0m\n",
      "\u001b[0;31mTypeError\u001b[0m: memoryview: a bytes-like object is required, not 'str'"
     ],
     "output_type": "error"
    }
   ],
   "source": [
    "p = subprocess.Popen([\"sudo\", \"-S\", \"whoami\"], stdin=subprocess.PIPE, stdout=subprocess.PIPE)\n",
    "print(p.communicate(\"password\\n\"))"
   ]
  },
  {
   "cell_type": "code",
   "execution_count": 40,
   "metadata": {
    "collapsed": true
   },
   "outputs": [],
   "source": [
    "from subprocess import Popen, PIPE\n",
    "\n",
    "process = Popen(['ls', '-la'], stdout=PIPE, stderr=PIPE)\n",
    "stdout, stderr = process.communicate()"
   ]
  },
  {
   "cell_type": "code",
   "execution_count": 41,
   "metadata": {},
   "outputs": [
    {
     "data": {
      "text/plain": [
       "b'total 152\\ndrwxr-xr-x  11 seyoung  staff    374 Jan 22 15:40 .\\ndrwxr-xr-x  11 seyoung  staff    374 Dec  7 15:27 ..\\n-rw-r--r--   1 seyoung  staff  12288 Jan 22 10:32 .check_paniikki_uptime.py.swp\\ndrwxr-xr-x   5 seyoung  staff    170 Jan 22 10:13 .ipynb_checkpoints\\n-rw-r--r--   1 seyoung  staff  27359 Jan 22 15:40 Test.ipynb\\n-rw-r--r--   1 seyoung  staff   9017 Dec  9 22:12 Untitled.ipynb\\n-rw-r--r--   1 seyoung  staff   4916 Dec 18 11:59 Untitled1.ipynb\\n-rwxr-xr-x@  1 seyoung  staff   1546 Dec  7 14:34 check_maari_uptime.py\\n-rw-r--r--   1 seyoung  staff   1058 Dec  7 15:23 check_paniikki_uptime.py\\n-rw-r--r--   1 seyoung  staff     16 Dec  9 19:59 model_name\\n-rw-r--r--   1 seyoung  staff   1058 Dec  9 19:06 run_ML.py\\n'"
      ]
     },
     "execution_count": 41,
     "metadata": {},
     "output_type": "execute_result"
    }
   ],
   "source": [
    "stdout"
   ]
  },
  {
   "cell_type": "code",
   "execution_count": 43,
   "metadata": {},
   "outputs": [
    {
     "data": {
      "text/plain": [
       "(b'hello world\\n', None)"
      ]
     },
     "execution_count": 43,
     "metadata": {},
     "output_type": "execute_result"
    }
   ],
   "source": [
    "p = subprocess.Popen([\"ssh\", \"hello world\"], stdout=subprocess.PIPE)\n",
    "\n",
    "p.communicate()"
   ]
  },
  {
   "cell_type": "code",
   "execution_count": 46,
   "metadata": {},
   "outputs": [
    {
     "name": "stdout",
     "output_type": "stream",
     "text": [
      "b\"parks1@kosh.aalto.fi's password: \"\n"
     ]
    },
    {
     "ename": "TypeError",
     "evalue": "a bytes-like object is required, not 'str'",
     "traceback": [
      "\u001b[0;31m---------------------------------------------------------------------------\u001b[0m",
      "\u001b[0;31mTypeError\u001b[0m                                 Traceback (most recent call last)",
      "\u001b[0;32m<ipython-input-46-7f1b95c1ac51>\u001b[0m in \u001b[0;36m<module>\u001b[0;34m()\u001b[0m\n\u001b[1;32m     14\u001b[0m             \u001b[0mos\u001b[0m\u001b[0;34m.\u001b[0m\u001b[0mwrite\u001b[0m\u001b[0;34m(\u001b[0m\u001b[0mfd\u001b[0m\u001b[0;34m,\u001b[0m\u001b[0;34m\"exit\\n\"\u001b[0m\u001b[0;34m)\u001b[0m\u001b[0;34m\u001b[0m\u001b[0m\n\u001b[1;32m     15\u001b[0m \u001b[0;34m\u001b[0m\u001b[0m\n\u001b[0;32m---> 16\u001b[0;31m \u001b[0mrun\u001b[0m\u001b[0;34m(\u001b[0m\u001b[0;34m\"ssh\"\u001b[0m\u001b[0;34m,\u001b[0m \u001b[0;34m\"ssh\"\u001b[0m\u001b[0;34m,\u001b[0m \u001b[0;34m\"kosh\"\u001b[0m\u001b[0;34m)\u001b[0m\u001b[0;34m\u001b[0m\u001b[0m\n\u001b[0m",
      "\u001b[0;32m<ipython-input-46-7f1b95c1ac51>\u001b[0m in \u001b[0;36mrun\u001b[0;34m(cmd, *args)\u001b[0m\n\u001b[1;32m      7\u001b[0m         \u001b[0mdata\u001b[0m \u001b[0;34m=\u001b[0m \u001b[0mos\u001b[0m\u001b[0;34m.\u001b[0m\u001b[0mread\u001b[0m\u001b[0;34m(\u001b[0m\u001b[0mfd\u001b[0m\u001b[0;34m,\u001b[0m\u001b[0;36m1024\u001b[0m\u001b[0;34m)\u001b[0m\u001b[0;34m\u001b[0m\u001b[0m\n\u001b[1;32m      8\u001b[0m         \u001b[0mprint\u001b[0m\u001b[0;34m(\u001b[0m\u001b[0mdata\u001b[0m\u001b[0;34m)\u001b[0m\u001b[0;34m\u001b[0m\u001b[0m\n\u001b[0;32m----> 9\u001b[0;31m         \u001b[0;32mif\u001b[0m \u001b[0;34m\"password:\"\u001b[0m \u001b[0;32min\u001b[0m \u001b[0mdata\u001b[0m\u001b[0;34m:\u001b[0m    \u001b[0;31m# ssh prompt\u001b[0m\u001b[0;34m\u001b[0m\u001b[0m\n\u001b[0m\u001b[1;32m     10\u001b[0m             \u001b[0mos\u001b[0m\u001b[0;34m.\u001b[0m\u001b[0mwrite\u001b[0m\u001b[0;34m(\u001b[0m\u001b[0mfd\u001b[0m\u001b[0;34m,\u001b[0m\u001b[0;34m\"mypassword\\n\"\u001b[0m\u001b[0;34m)\u001b[0m\u001b[0;34m\u001b[0m\u001b[0m\n\u001b[1;32m     11\u001b[0m         \u001b[0;32melif\u001b[0m \u001b[0mdata\u001b[0m\u001b[0;34m.\u001b[0m\u001b[0mendswith\u001b[0m\u001b[0;34m(\u001b[0m\u001b[0;34m\"$ \"\u001b[0m\u001b[0;34m)\u001b[0m\u001b[0;34m:\u001b[0m  \u001b[0;31m# bash prompt for input\u001b[0m\u001b[0;34m\u001b[0m\u001b[0m\n",
      "\u001b[0;31mTypeError\u001b[0m: a bytes-like object is required, not 'str'"
     ],
     "output_type": "error"
    }
   ],
   "source": [
    "import os\n",
    "def run(cmd,*args):\n",
    "    pid, fd = os.forkpty()\n",
    "    if pid==0: # child\n",
    "        os.execlp(cmd,*args)\n",
    "    while True:\n",
    "        data = os.read(fd,1024)\n",
    "        print(data)\n",
    "        if \"password:\" in data:    # ssh prompt\n",
    "            os.write(fd,\"mypassword\\n\")\n",
    "        elif data.endswith(\"$ \"):  # bash prompt for input\n",
    "            os.write(fd,\"echo hello\\n\")\n",
    "            os.write(fd,\"echo bye\\n\")\n",
    "            os.write(fd,\"exit\\n\")\n",
    "\n",
    "run(\"ssh\", \"ssh\", \"kosh\")"
   ]
  },
  {
   "cell_type": "code",
   "execution_count": 53,
   "metadata": {
    "collapsed": true
   },
   "outputs": [],
   "source": [
    "# pyscript = r\"\"\"\n",
    "#             import sys, os;\n",
    "#             verbosity=%d;\n",
    "#             sys.stdin = os.fdopen(0, \"rb\");\n",
    "#             exec(compile(sys.stdin.read(%d), \"assembler.py\", \"exec\"))\n",
    "#             \"\"\" % (helpers.verbose or 0, len(content))\n",
    "# pyscript = re.sub(r'\\s+', ' ', pyscript.strip())\n",
    "\n",
    "# if not rhost:\n",
    "#     # ignore the --python argument when running locally; we already know\n",
    "#     # which python version works.\n",
    "#     argv = [sys.executable, '-c', pyscript]\n",
    "# else:\n",
    "#     if ssh_cmd:\n",
    "#         sshl = shlex.split(ssh_cmd)\n",
    "#     else:\n",
    "#         sshl = ['ssh']\n",
    "#     if python:\n",
    "#         pycmd = \"'%s' -c '%s'\" % (python, pyscript)\n",
    "#     else:\n",
    "#         pycmd = (\"P=python3; $P -V 2>/dev/null || P=python; \"\n",
    "#                  \"exec \\\"$P\\\" -c %s\") % quote(pyscript)\n",
    "#         pycmd = (\"exec /bin/sh -c %s\" % quote(pycmd))\n",
    "#     argv = (sshl +\n",
    "#             portl +\n",
    "#             [rhost, '--', pycmd])\n",
    "\n",
    "\n",
    "argv = ([\"ssh\"] +\n",
    "        [\"parks1@kosh.org.aalto.fi\"])\n",
    "\n",
    "\n",
    "(s1, s2) = socket.socketpair()\n",
    "\n",
    "def setup():\n",
    "    # runs in the child process\n",
    "    s2.close()\n",
    "s1a, s1b = os.dup(s1.fileno()), os.dup(s1.fileno())\n",
    "s1.close()\n",
    "p = subprocess.Popen(argv, stdin=s1a, stdout=s1b, preexec_fn=setup,\n",
    "                      close_fds=True)\n",
    "os.close(s1a)\n",
    "os.close(s1b)\n",
    "s2.sendall(\"content\".encode(\"UTF8\"))\n",
    "# s2.sendall(content2)\n"
   ]
  },
  {
   "cell_type": "code",
   "execution_count": 58,
   "metadata": {
    "collapsed": true
   },
   "outputs": [],
   "source": [
    "pyscript = r\"\"\"\n",
    "                import sys, os;\n",
    "                verbosity=%d;\n",
    "                sys.stdin = os.fdopen(0, \"rb\");\n",
    "                exec(compile(sys.stdin.read(%d), \"assembler.py\", \"exec\"))\n",
    "                \"\"\" % (0,0)"
   ]
  },
  {
   "cell_type": "code",
   "execution_count": 60,
   "metadata": {},
   "outputs": [
    {
     "data": {
      "text/plain": [
       "'import sys, os; verbosity=0; sys.stdin = os.fdopen(0, \"rb\"); exec(compile(sys.stdin.read(0), \"assembler.py\", \"exec\"))'"
      ]
     },
     "execution_count": 60,
     "metadata": {},
     "output_type": "execute_result"
    }
   ],
   "source": [
    "import re\n",
    "re.sub(r'\\s+', ' ', pyscript.strip())"
   ]
  },
  {
   "cell_type": "code",
   "execution_count": null,
   "metadata": {
    "collapsed": true
   },
   "outputs": [],
   "source": [
    "\n"
   ]
  },
  {
   "cell_type": "code",
   "execution_count": null,
   "metadata": {
    "collapsed": true
   },
   "outputs": [],
   "source": []
  }
 ],
 "metadata": {
  "kernelspec": {
   "display_name": "Python 3",
   "language": "python",
   "name": "python3"
  },
  "language_info": {
   "codemirror_mode": {
    "name": "ipython",
    "version": 3
   },
   "file_extension": ".py",
   "mimetype": "text/x-python",
   "name": "python",
   "nbconvert_exporter": "python",
   "pygments_lexer": "ipython3",
   "version": "3.6.1"
  }
 },
 "nbformat": 4,
 "nbformat_minor": 2
}
