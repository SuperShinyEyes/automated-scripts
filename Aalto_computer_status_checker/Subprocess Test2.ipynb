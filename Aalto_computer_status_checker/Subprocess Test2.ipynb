{
 "cells": [
  {
   "cell_type": "code",
   "execution_count": 5,
   "metadata": {
    "collapsed": true
   },
   "outputs": [],
   "source": [
    "import subprocess\n",
    "import socket, os"
   ]
  },
  {
   "cell_type": "code",
   "execution_count": 14,
   "metadata": {
    "collapsed": true
   },
   "outputs": [],
   "source": [
    "argv = ([\"ssh\"] +\n",
    "        [\"parks1@kosh.org.aalto.fi\", \"--\"])\n",
    "\n",
    "\n",
    "(s1, s2) = socket.socketpair()\n",
    "\n",
    "def setup():\n",
    "    # runs in the child process\n",
    "    s2.close()\n",
    "s1a, s1b = os.dup(s1.fileno()), os.dup(s1.fileno())\n",
    "s1.close()\n",
    "p = subprocess.Popen(argv, stdin=s1a, stdout=s1b, preexec_fn=setup,\n",
    "                      close_fds=True)\n",
    "os.close(s1a)\n",
    "os.close(s1b)\n",
    "# s2.sendall(\"content\".encode(\"UTF8\"))\n",
    "# s2.sendall(content2)\n",
    "\n"
   ]
  },
  {
   "cell_type": "code",
   "execution_count": null,
   "metadata": {
    "collapsed": true
   },
   "outputs": [],
   "source": [
    "\n"
   ]
  }
 ],
 "metadata": {
  "kernelspec": {
   "display_name": "Python 3",
   "language": "python",
   "name": "python3"
  },
  "language_info": {
   "codemirror_mode": {
    "name": "ipython",
    "version": 3
   },
   "file_extension": ".py",
   "mimetype": "text/x-python",
   "name": "python",
   "nbconvert_exporter": "python",
   "pygments_lexer": "ipython3",
   "version": "3.6.1"
  }
 },
 "nbformat": 4,
 "nbformat_minor": 2
}
